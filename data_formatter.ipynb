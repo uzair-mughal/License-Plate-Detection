{
 "cells": [
  {
   "cell_type": "code",
   "execution_count": null,
   "metadata": {},
   "outputs": [],
   "source": [
    "import os \n",
    "import yaml\n",
    "import shutil\n",
    "import numpy as np \n",
    "import pandas as pd \n",
    "from tqdm import tqdm\n",
    "import matplotlib.pyplot as plt \n",
    "import xml.etree.ElementTree as ET\n",
    "from sklearn.model_selection import train_test_split"
   ]
  },
  {
   "cell_type": "code",
   "execution_count": null,
   "metadata": {},
   "outputs": [],
   "source": [
    "path = os.getcwd()\n",
    "ANNOTATIONS_PATH = os.path.join(path, 'data', 'annotations')\n",
    "IMAGES_PATH =  os.path.join(path, 'data', 'images')\n",
    "\n",
    "TRAIN_PATH = os.path.join(path, 'data', 'train')\n",
    "VAL_PATH= os.path.join(path, 'data', 'val')\n",
    "TEST_PATH = os.path.join(path, 'data', 'test')"
   ]
  },
  {
   "cell_type": "markdown",
   "metadata": {},
   "source": [
    "# Data Pre-Processing"
   ]
  },
  {
   "cell_type": "markdown",
   "metadata": {},
   "source": [
    "## Reading annotations data"
   ]
  },
  {
   "cell_type": "code",
   "execution_count": null,
   "metadata": {},
   "outputs": [],
   "source": [
    "filenames = []\n",
    "\n",
    "size_props = {\n",
    "    'height':[],\n",
    "    'width':[]\n",
    "}\n",
    "\n",
    "bounding_box_props = {\n",
    "    'xmin':[],\n",
    "    'ymin':[],\n",
    "    'xmax':[],\n",
    "    'ymax':[]\n",
    "}"
   ]
  },
  {
   "cell_type": "code",
   "execution_count": null,
   "metadata": {},
   "outputs": [],
   "source": [
    "\n",
    "for file in tqdm(os.listdir(ANNOTATIONS_PATH)):\n",
    "    annotation = ET.parse(os.path.join(ANNOTATIONS_PATH, file))\n",
    "    filenames.append(os.path.join(ANNOTATIONS_PATH, file))\n",
    "    size = annotation.find('size')\n",
    "    \n",
    "    for name, prop_list in size_props.items():\n",
    "        prop_value = size.find(name).text\n",
    "        size_props[name].append(int(prop_value))\n",
    "    bounding_box = annotation.find('object').find('bndbox')\n",
    "\n",
    "    for name, prop_list in bounding_box_props.items():\n",
    "        prop_value = bounding_box.find(name).text\n",
    "        bounding_box_props[name].append(int(prop_value))"
   ]
  },
  {
   "cell_type": "code",
   "execution_count": null,
   "metadata": {},
   "outputs": [],
   "source": [
    "df = pd.DataFrame({\n",
    "    'file':filenames,\n",
    "    'width':size_props['width'],\n",
    "    'height':size_props['height'],\n",
    "    'xmin':bounding_box_props['xmin'],\n",
    "    'ymin':bounding_box_props['ymin'],\n",
    "    'xmax':bounding_box_props['xmax'],\n",
    "    'ymax':bounding_box_props['ymax']\n",
    "})"
   ]
  },
  {
   "cell_type": "markdown",
   "metadata": {},
   "source": [
    "## Making annotations compatible with YOLOv5"
   ]
  },
  {
   "cell_type": "code",
   "execution_count": null,
   "metadata": {},
   "outputs": [],
   "source": [
    "df['center_x'] = (df['xmax'] + df['xmin'])/(2*df['width'])\n",
    "df['center_y'] = (df['ymax'] + df['ymin'])/(2*df['height'])\n",
    "\n",
    "df['bb_width'] = (df['xmax'] - df['xmin'])/df['width']\n",
    "df['bb_height'] = (df['ymax'] - df['ymin'])/df['height']"
   ]
  },
  {
   "cell_type": "markdown",
   "metadata": {},
   "source": [
    "## Making train/val/test split"
   ]
  },
  {
   "cell_type": "code",
   "execution_count": null,
   "metadata": {},
   "outputs": [],
   "source": [
    "# Keeping important columns only \n",
    "yolo_df = df[['file', 'center_x', 'center_y', 'bb_width', 'bb_height']]\n",
    "\n",
    "# Performing 70-15-15 split\n",
    "test_size = int(0.15 * len(df))\n",
    "df_train, df_test = train_test_split(yolo_df, test_size=test_size)\n",
    "df_train, df_val = train_test_split(df_train, test_size=test_size)"
   ]
  },
  {
   "cell_type": "markdown",
   "metadata": {},
   "source": [
    "## Seperating images with annotations"
   ]
  },
  {
   "cell_type": "code",
   "execution_count": null,
   "metadata": {},
   "outputs": [],
   "source": [
    "if not os.path.exists(TRAIN_PATH):\n",
    "    os.makedirs()\n",
    "\n",
    "if not os.path.exists(VAL_PATH):\n",
    "    os.makedirs(VAL_PATH)\n",
    "\n",
    "if not os.path.exists(TEST_PATH):\n",
    "    os.makedirs(TEST_PATH)"
   ]
  },
  {
   "cell_type": "code",
   "execution_count": null,
   "metadata": {},
   "outputs": [],
   "source": [
    "def move_images(df:pd.DataFrame, PATH:str, set:str):\n",
    "    print('Moving images for {set} set'.format(set=set))\n",
    "    for _, row  in tqdm(df.iterrows()):\n",
    "        annotation_path = row['file']\n",
    "        image_name = os.path.split(annotation_path)[-1].replace('.xml','')\n",
    "        image_src = os.path.join(IMAGES_PATH, f'{image_name}.png')\n",
    "        image_dst = os.path.join(PATH, f'{image_name}.png')\n",
    "        shutil.copy2(image_src, image_dst)\n",
    "        label_text = f\"0 {row['center_x']} {row['center_y']} {row['bb_width']} {row['bb_height']}\"\n",
    "        with open(os.path.join(PATH, f'{image_name}.txt'), 'w') as f:\n",
    "            f.write(label_text)\n",
    "    print('Done moving images for {set} set'.format(set=set))"
   ]
  },
  {
   "cell_type": "code",
   "execution_count": null,
   "metadata": {},
   "outputs": [],
   "source": [
    "# Moving images for train \n",
    "move_images(df_train, TRAIN_PATH, 'train')\n",
    "# Moving images for valid\n",
    "move_images(df_val, VAL_PATH, 'valid')\n",
    "# Moving images for test \n",
    "move_images(df_test, TEST_PATH, 'test')"
   ]
  },
  {
   "cell_type": "markdown",
   "metadata": {},
   "source": [
    "## Creating .yaml file which will be used to train YOLO on custom data "
   ]
  },
  {
   "cell_type": "code",
   "execution_count": null,
   "metadata": {},
   "outputs": [],
   "source": [
    "\n",
    "data = {\n",
    "    'names': ['License Plate'],\n",
    "    'nc': 1,\n",
    "    'train': os.path.abspath(TRAIN_PATH),\n",
    "    'val': os.path.abspath(VAL_PATH)\n",
    "}\n",
    "\n",
    "with open('./data_yaml/LicensePlate.yaml', 'w') as f:\n",
    "    yaml.dump(data, f)"
   ]
  }
 ],
 "metadata": {
  "kernelspec": {
   "display_name": "Python 3.10.4 ('lpd')",
   "language": "python",
   "name": "python3"
  },
  "language_info": {
   "codemirror_mode": {
    "name": "ipython",
    "version": 3
   },
   "file_extension": ".py",
   "mimetype": "text/x-python",
   "name": "python",
   "nbconvert_exporter": "python",
   "pygments_lexer": "ipython3",
   "version": "3.10.4"
  },
  "vscode": {
   "interpreter": {
    "hash": "eb9af74fac1276adc51c852d18bf7e58bc19bc2b0f73e51ad7d24dc3d2761368"
   }
  }
 },
 "nbformat": 4,
 "nbformat_minor": 2
}
