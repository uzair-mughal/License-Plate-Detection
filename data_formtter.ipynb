{
 "cells": [
  {
   "cell_type": "code",
   "execution_count": 1,
   "metadata": {},
   "outputs": [
    {
     "name": "stderr",
     "output_type": "stream",
     "text": [
      "c:\\Users\\uzair\\anaconda3\\envs\\lpd\\lib\\site-packages\\tqdm\\auto.py:22: TqdmWarning: IProgress not found. Please update jupyter and ipywidgets. See https://ipywidgets.readthedocs.io/en/stable/user_install.html\n",
      "  from .autonotebook import tqdm as notebook_tqdm\n"
     ]
    }
   ],
   "source": [
    "import os \n",
    "import yaml\n",
    "import torch\n",
    "import shutil\n",
    "import numpy as np \n",
    "import pandas as pd \n",
    "from tqdm import tqdm\n",
    "import matplotlib.pyplot as plt \n",
    "import xml.etree.ElementTree as ET\n",
    "from sklearn.model_selection import train_test_split"
   ]
  },
  {
   "cell_type": "code",
   "execution_count": 3,
   "metadata": {},
   "outputs": [],
   "source": [
    "path = os.getcwd()\n",
    "ANNOTATIONS_PATH = os.path.join(path, 'data', 'annotations')"
   ]
  },
  {
   "cell_type": "code",
   "execution_count": 4,
   "metadata": {},
   "outputs": [],
   "source": [
    "filenames = []\n",
    "\n",
    "size_props = {\n",
    "    'height':[],\n",
    "    'width':[]\n",
    "}\n",
    "\n",
    "bounding_box_props = {\n",
    "    'xmin':[],\n",
    "    'ymin':[],\n",
    "    'xmax':[],\n",
    "    'ymax':[]\n",
    "}"
   ]
  },
  {
   "cell_type": "code",
   "execution_count": 5,
   "metadata": {},
   "outputs": [
    {
     "name": "stderr",
     "output_type": "stream",
     "text": [
      "100%|███████████████████████████████████████████████████████████████████████████████| 433/433 [00:01<00:00, 273.71it/s]\n"
     ]
    }
   ],
   "source": [
    "\n",
    "for file in tqdm(os.listdir(ANNOTATIONS_PATH)):\n",
    "    annotation = ET.parse(os.path.join(ANNOTATIONS_PATH, file))\n",
    "    filenames.append(os.path.join(ANNOTATIONS_PATH, file))\n",
    "    size = annotation.find('size')\n",
    "    \n",
    "    for name, prop_list in size_props.items():\n",
    "        prop_value = size.find(name).text\n",
    "        size_props[name].append(int(prop_value))\n",
    "    bounding_box = annotation.find('object').find('bndbox')\n",
    "\n",
    "    for name, prop_list in bounding_box_props.items():\n",
    "        prop_value = bounding_box.find(name).text\n",
    "        bounding_box_props[name].append(int(prop_value))"
   ]
  },
  {
   "cell_type": "code",
   "execution_count": 6,
   "metadata": {},
   "outputs": [],
   "source": [
    "df = pd.DataFrame({\n",
    "    'file':filenames,\n",
    "    'width':size_props['width'],\n",
    "    'height':size_props['height'],\n",
    "    'xmin':bounding_box_props['xmin'],\n",
    "    'ymin':bounding_box_props['ymin'],\n",
    "    'xmax':bounding_box_props['xmax'],\n",
    "    'ymax':bounding_box_props['ymax']\n",
    "})"
   ]
  },
  {
   "cell_type": "markdown",
   "metadata": {},
   "source": [
    "# Making annotations compatible with YOLOv5"
   ]
  },
  {
   "cell_type": "code",
   "execution_count": 7,
   "metadata": {},
   "outputs": [],
   "source": [
    "df['center_x'] = (df['xmax'] + df['xmin'])/(2*df['width'])\n",
    "df['center_y'] = (df['ymax'] + df['ymin'])/(2*df['height'])\n",
    "\n",
    "df['bb_width'] = (df['xmax'] - df['xmin'])/df['width']\n",
    "df['bb_height'] = (df['ymax'] - df['ymin'])/df['height']"
   ]
  },
  {
   "cell_type": "code",
   "execution_count": 8,
   "metadata": {},
   "outputs": [],
   "source": [
    "# Keeping important columns only \n",
    "yolo_df = df[['file', 'center_x', 'center_y', 'bb_width', 'bb_height']]\n",
    "# Performing 70-15-15 split\n",
    "test_size = int(0.15 * len(df))\n",
    "\n",
    "df_train, df_test = train_test_split(yolo_df, test_size=test_size)\n",
    "df_train, df_val = train_test_split(df_train, test_size=test_size)"
   ]
  },
  {
   "cell_type": "code",
   "execution_count": 9,
   "metadata": {},
   "outputs": [],
   "source": [
    "TRAIN_PATH = os.path.join(path, 'data', 'train')\n",
    "VAL_PATH= os.path.join(path, 'data', 'val')\n",
    "TEST_PATH = os.path.join(path, 'data', 'test')\n",
    "\n",
    "IMAGES_PATH =  os.path.join(path, 'data', 'images')\n",
    "\n",
    "if not os.path.exists(TRAIN_PATH):\n",
    "    os.makedirs(TRAIN_PATH)\n",
    "    print('Made folder for train set')\n",
    "\n",
    "if not os.path.exists(VAL_PATH):\n",
    "    os.makedirs(VAL_PATH)\n",
    "    print('Made folder for val set')\n",
    "\n",
    "if not os.path.exists(TEST_PATH):\n",
    "    os.makedirs(TEST_PATH)\n",
    "    print('Made folder for test set')"
   ]
  },
  {
   "cell_type": "code",
   "execution_count": 10,
   "metadata": {},
   "outputs": [
    {
     "name": "stdout",
     "output_type": "stream",
     "text": [
      "Moving images for train set\n"
     ]
    },
    {
     "name": "stderr",
     "output_type": "stream",
     "text": [
      "305it [00:01, 156.87it/s]\n"
     ]
    },
    {
     "name": "stdout",
     "output_type": "stream",
     "text": [
      "Done moving images for train set\n",
      "Moving images for val set\n"
     ]
    },
    {
     "name": "stderr",
     "output_type": "stream",
     "text": [
      "64it [00:00, 158.49it/s]\n"
     ]
    },
    {
     "name": "stdout",
     "output_type": "stream",
     "text": [
      "Done moving images for val set\n",
      "Moving images for test set\n"
     ]
    },
    {
     "name": "stderr",
     "output_type": "stream",
     "text": [
      "64it [00:00, 150.86it/s]"
     ]
    },
    {
     "name": "stdout",
     "output_type": "stream",
     "text": [
      "Done moving images for test set\n"
     ]
    },
    {
     "name": "stderr",
     "output_type": "stream",
     "text": [
      "\n"
     ]
    }
   ],
   "source": [
    "print('Moving images for train set')\n",
    "for _, row  in tqdm(df_train.iterrows()):\n",
    "    annotation_path = row['file']\n",
    "    image_name = os.path.split(annotation_path)[-1].replace('.xml','')\n",
    "    image_src = os.path.join(IMAGES_PATH, f'{image_name}.png')\n",
    "    image_dst = os.path.join(TRAIN_PATH, f'{image_name}.png')\n",
    "    shutil.copy2(image_src, image_dst)\n",
    "    label_text = f\"0 {row['center_x']} {row['center_y']} {row['bb_width']} {row['bb_height']}\"\n",
    "    with open(os.path.join(TRAIN_PATH, f'{image_name}.txt'), 'w') as f:\n",
    "        f.write(label_text)\n",
    "print('Done moving images for train set')\n",
    "\n",
    "print('Moving images for val set')\n",
    "for _, row  in tqdm(df_val.iterrows()):\n",
    "    annotation_path = row['file']\n",
    "    image_name = os.path.split(annotation_path)[-1].replace('.xml','')\n",
    "    image_src = os.path.join(IMAGES_PATH, f'{image_name}.png')\n",
    "    image_dst = os.path.join(VAL_PATH, f'{image_name}.png')\n",
    "    shutil.copy2(image_src, image_dst)\n",
    "    label_text = f\"0 {row['center_x']} {row['center_y']} {row['bb_width']} {row['bb_height']}\"\n",
    "    with open(os.path.join(VAL_PATH, f'{image_name}.txt'), 'w') as f:\n",
    "        f.write(label_text)\n",
    "print('Done moving images for val set')\n",
    "\n",
    "print('Moving images for test set')\n",
    "for _, row  in tqdm(df_test.iterrows()):\n",
    "    annotation_path = row['file']\n",
    "    image_name = os.path.split(annotation_path)[-1].replace('.xml','')\n",
    "    image_src = os.path.join(IMAGES_PATH, f'{image_name}.png')\n",
    "    image_dst = os.path.join(TEST_PATH, f'{image_name}.png')\n",
    "    shutil.copy2(image_src, image_dst)\n",
    "    label_text = f\"0 {row['center_x']} {row['center_y']} {row['bb_width']} {row['bb_height']}\"\n",
    "    with open(os.path.join(TEST_PATH, f'{image_name}.txt'), 'w') as f:\n",
    "        f.write(label_text)\n",
    "print('Done moving images for test set')"
   ]
  },
  {
   "cell_type": "code",
   "execution_count": 11,
   "metadata": {},
   "outputs": [
    {
     "name": "stderr",
     "output_type": "stream",
     "text": [
      "fatal: destination path 'yolov5' already exists and is not an empty directory.\n"
     ]
    }
   ],
   "source": [
    "# Cloning the ultralytics yolo repository\n",
    "! git clone https://github.com/ultralytics/yolov5.git"
   ]
  },
  {
   "cell_type": "code",
   "execution_count": 12,
   "metadata": {},
   "outputs": [
    {
     "name": "stdout",
     "output_type": "stream",
     "text": [
      "Requirement already satisfied: matplotlib>=3.2.2 in c:\\users\\uzair\\anaconda3\\envs\\lpd\\lib\\site-packages (from -r yolov5/requirements.txt (line 5)) (3.5.2)\n",
      "Requirement already satisfied: numpy>=1.18.5 in c:\\users\\uzair\\anaconda3\\envs\\lpd\\lib\\site-packages (from -r yolov5/requirements.txt (line 6)) (1.23.1)\n",
      "Requirement already satisfied: opencv-python>=4.1.1 in c:\\users\\uzair\\anaconda3\\envs\\lpd\\lib\\site-packages (from -r yolov5/requirements.txt (line 7)) (4.6.0.66)\n",
      "Requirement already satisfied: Pillow>=7.1.2 in c:\\users\\uzair\\anaconda3\\envs\\lpd\\lib\\site-packages (from -r yolov5/requirements.txt (line 8)) (9.2.0)\n",
      "Requirement already satisfied: PyYAML>=5.3.1 in c:\\users\\uzair\\anaconda3\\envs\\lpd\\lib\\site-packages (from -r yolov5/requirements.txt (line 9)) (6.0)\n",
      "Requirement already satisfied: requests>=2.23.0 in c:\\users\\uzair\\anaconda3\\envs\\lpd\\lib\\site-packages (from -r yolov5/requirements.txt (line 10)) (2.28.1)\n",
      "Requirement already satisfied: scipy>=1.4.1 in c:\\users\\uzair\\anaconda3\\envs\\lpd\\lib\\site-packages (from -r yolov5/requirements.txt (line 11)) (1.9.0)\n",
      "Requirement already satisfied: torch>=1.7.0 in c:\\users\\uzair\\anaconda3\\envs\\lpd\\lib\\site-packages (from -r yolov5/requirements.txt (line 12)) (1.12.0+cu116)\n",
      "Requirement already satisfied: torchvision>=0.8.1 in c:\\users\\uzair\\anaconda3\\envs\\lpd\\lib\\site-packages (from -r yolov5/requirements.txt (line 13)) (0.13.0+cu116)\n",
      "Requirement already satisfied: tqdm>=4.64.0 in c:\\users\\uzair\\anaconda3\\envs\\lpd\\lib\\site-packages (from -r yolov5/requirements.txt (line 14)) (4.64.0)\n",
      "Requirement already satisfied: protobuf<=3.20.1 in c:\\users\\uzair\\anaconda3\\envs\\lpd\\lib\\site-packages (from -r yolov5/requirements.txt (line 15)) (3.19.4)\n",
      "Requirement already satisfied: tensorboard>=2.4.1 in c:\\users\\uzair\\anaconda3\\envs\\lpd\\lib\\site-packages (from -r yolov5/requirements.txt (line 18)) (2.9.1)\n",
      "Requirement already satisfied: pandas>=1.1.4 in c:\\users\\uzair\\anaconda3\\envs\\lpd\\lib\\site-packages (from -r yolov5/requirements.txt (line 22)) (1.4.3)\n",
      "Requirement already satisfied: seaborn>=0.11.0 in c:\\users\\uzair\\anaconda3\\envs\\lpd\\lib\\site-packages (from -r yolov5/requirements.txt (line 23)) (0.11.2)\n",
      "Requirement already satisfied: ipython in c:\\users\\uzair\\anaconda3\\envs\\lpd\\lib\\site-packages (from -r yolov5/requirements.txt (line 37)) (8.4.0)\n",
      "Requirement already satisfied: psutil in c:\\users\\uzair\\anaconda3\\envs\\lpd\\lib\\site-packages (from -r yolov5/requirements.txt (line 38)) (5.9.1)\n",
      "Requirement already satisfied: thop>=0.1.1 in c:\\users\\uzair\\anaconda3\\envs\\lpd\\lib\\site-packages (from -r yolov5/requirements.txt (line 39)) (0.1.1.post2207130030)\n",
      "Requirement already satisfied: kiwisolver>=1.0.1 in c:\\users\\uzair\\anaconda3\\envs\\lpd\\lib\\site-packages (from matplotlib>=3.2.2->-r yolov5/requirements.txt (line 5)) (1.4.4)\n",
      "Requirement already satisfied: cycler>=0.10 in c:\\users\\uzair\\anaconda3\\envs\\lpd\\lib\\site-packages (from matplotlib>=3.2.2->-r yolov5/requirements.txt (line 5)) (0.11.0)\n",
      "Requirement already satisfied: packaging>=20.0 in c:\\users\\uzair\\anaconda3\\envs\\lpd\\lib\\site-packages (from matplotlib>=3.2.2->-r yolov5/requirements.txt (line 5)) (21.3)\n",
      "Requirement already satisfied: fonttools>=4.22.0 in c:\\users\\uzair\\anaconda3\\envs\\lpd\\lib\\site-packages (from matplotlib>=3.2.2->-r yolov5/requirements.txt (line 5)) (4.34.4)\n",
      "Requirement already satisfied: pyparsing>=2.2.1 in c:\\users\\uzair\\anaconda3\\envs\\lpd\\lib\\site-packages (from matplotlib>=3.2.2->-r yolov5/requirements.txt (line 5)) (3.0.9)\n",
      "Requirement already satisfied: python-dateutil>=2.7 in c:\\users\\uzair\\anaconda3\\envs\\lpd\\lib\\site-packages (from matplotlib>=3.2.2->-r yolov5/requirements.txt (line 5)) (2.8.2)\n",
      "Requirement already satisfied: certifi>=2017.4.17 in c:\\users\\uzair\\anaconda3\\envs\\lpd\\lib\\site-packages (from requests>=2.23.0->-r yolov5/requirements.txt (line 10)) (2022.6.15)\n",
      "Requirement already satisfied: idna<4,>=2.5 in c:\\users\\uzair\\anaconda3\\envs\\lpd\\lib\\site-packages (from requests>=2.23.0->-r yolov5/requirements.txt (line 10)) (3.3)\n",
      "Requirement already satisfied: urllib3<1.27,>=1.21.1 in c:\\users\\uzair\\anaconda3\\envs\\lpd\\lib\\site-packages (from requests>=2.23.0->-r yolov5/requirements.txt (line 10)) (1.26.11)\n",
      "Requirement already satisfied: charset-normalizer<3,>=2 in c:\\users\\uzair\\anaconda3\\envs\\lpd\\lib\\site-packages (from requests>=2.23.0->-r yolov5/requirements.txt (line 10)) (2.1.0)\n",
      "Requirement already satisfied: typing-extensions in c:\\users\\uzair\\anaconda3\\envs\\lpd\\lib\\site-packages (from torch>=1.7.0->-r yolov5/requirements.txt (line 12)) (4.3.0)\n",
      "Requirement already satisfied: colorama in c:\\users\\uzair\\anaconda3\\envs\\lpd\\lib\\site-packages (from tqdm>=4.64.0->-r yolov5/requirements.txt (line 14)) (0.4.5)\n",
      "Requirement already satisfied: tensorboard-data-server<0.7.0,>=0.6.0 in c:\\users\\uzair\\anaconda3\\envs\\lpd\\lib\\site-packages (from tensorboard>=2.4.1->-r yolov5/requirements.txt (line 18)) (0.6.1)\n",
      "Requirement already satisfied: google-auth<3,>=1.6.3 in c:\\users\\uzair\\anaconda3\\envs\\lpd\\lib\\site-packages (from tensorboard>=2.4.1->-r yolov5/requirements.txt (line 18)) (2.9.1)\n",
      "Requirement already satisfied: tensorboard-plugin-wit>=1.6.0 in c:\\users\\uzair\\anaconda3\\envs\\lpd\\lib\\site-packages (from tensorboard>=2.4.1->-r yolov5/requirements.txt (line 18)) (1.8.1)\n",
      "Requirement already satisfied: wheel>=0.26 in c:\\users\\uzair\\anaconda3\\envs\\lpd\\lib\\site-packages (from tensorboard>=2.4.1->-r yolov5/requirements.txt (line 18)) (0.37.1)\n",
      "Requirement already satisfied: grpcio>=1.24.3 in c:\\users\\uzair\\anaconda3\\envs\\lpd\\lib\\site-packages (from tensorboard>=2.4.1->-r yolov5/requirements.txt (line 18)) (1.48.0)\n",
      "Requirement already satisfied: werkzeug>=1.0.1 in c:\\users\\uzair\\anaconda3\\envs\\lpd\\lib\\site-packages (from tensorboard>=2.4.1->-r yolov5/requirements.txt (line 18)) (2.2.1)\n",
      "Requirement already satisfied: google-auth-oauthlib<0.5,>=0.4.1 in c:\\users\\uzair\\anaconda3\\envs\\lpd\\lib\\site-packages (from tensorboard>=2.4.1->-r yolov5/requirements.txt (line 18)) (0.4.6)\n",
      "Requirement already satisfied: markdown>=2.6.8 in c:\\users\\uzair\\anaconda3\\envs\\lpd\\lib\\site-packages (from tensorboard>=2.4.1->-r yolov5/requirements.txt (line 18)) (3.4.1)\n",
      "Requirement already satisfied: absl-py>=0.4 in c:\\users\\uzair\\anaconda3\\envs\\lpd\\lib\\site-packages (from tensorboard>=2.4.1->-r yolov5/requirements.txt (line 18)) (1.2.0)\n",
      "Requirement already satisfied: setuptools>=41.0.0 in c:\\users\\uzair\\anaconda3\\envs\\lpd\\lib\\site-packages (from tensorboard>=2.4.1->-r yolov5/requirements.txt (line 18)) (61.2.0)\n",
      "Requirement already satisfied: pytz>=2020.1 in c:\\users\\uzair\\anaconda3\\envs\\lpd\\lib\\site-packages (from pandas>=1.1.4->-r yolov5/requirements.txt (line 22)) (2022.1)\n",
      "Requirement already satisfied: matplotlib-inline in c:\\users\\uzair\\anaconda3\\envs\\lpd\\lib\\site-packages (from ipython->-r yolov5/requirements.txt (line 37)) (0.1.2)\n",
      "Requirement already satisfied: backcall in c:\\users\\uzair\\anaconda3\\envs\\lpd\\lib\\site-packages (from ipython->-r yolov5/requirements.txt (line 37)) (0.2.0)\n",
      "Requirement already satisfied: stack-data in c:\\users\\uzair\\anaconda3\\envs\\lpd\\lib\\site-packages (from ipython->-r yolov5/requirements.txt (line 37)) (0.2.0)\n",
      "Requirement already satisfied: prompt-toolkit!=3.0.0,!=3.0.1,<3.1.0,>=2.0.0 in c:\\users\\uzair\\anaconda3\\envs\\lpd\\lib\\site-packages (from ipython->-r yolov5/requirements.txt (line 37)) (3.0.20)\n",
      "Requirement already satisfied: pickleshare in c:\\users\\uzair\\anaconda3\\envs\\lpd\\lib\\site-packages (from ipython->-r yolov5/requirements.txt (line 37)) (0.7.5)\n",
      "Requirement already satisfied: traitlets>=5 in c:\\users\\uzair\\anaconda3\\envs\\lpd\\lib\\site-packages (from ipython->-r yolov5/requirements.txt (line 37)) (5.1.1)\n",
      "Requirement already satisfied: pygments>=2.4.0 in c:\\users\\uzair\\anaconda3\\envs\\lpd\\lib\\site-packages (from ipython->-r yolov5/requirements.txt (line 37)) (2.11.2)\n",
      "Requirement already satisfied: decorator in c:\\users\\uzair\\anaconda3\\envs\\lpd\\lib\\site-packages (from ipython->-r yolov5/requirements.txt (line 37)) (5.1.1)\n",
      "Requirement already satisfied: jedi>=0.16 in c:\\users\\uzair\\anaconda3\\envs\\lpd\\lib\\site-packages (from ipython->-r yolov5/requirements.txt (line 37)) (0.18.1)\n",
      "Requirement already satisfied: cachetools<6.0,>=2.0.0 in c:\\users\\uzair\\anaconda3\\envs\\lpd\\lib\\site-packages (from google-auth<3,>=1.6.3->tensorboard>=2.4.1->-r yolov5/requirements.txt (line 18)) (5.2.0)\n",
      "Requirement already satisfied: pyasn1-modules>=0.2.1 in c:\\users\\uzair\\anaconda3\\envs\\lpd\\lib\\site-packages (from google-auth<3,>=1.6.3->tensorboard>=2.4.1->-r yolov5/requirements.txt (line 18)) (0.2.8)\n",
      "Requirement already satisfied: rsa<5,>=3.1.4 in c:\\users\\uzair\\anaconda3\\envs\\lpd\\lib\\site-packages (from google-auth<3,>=1.6.3->tensorboard>=2.4.1->-r yolov5/requirements.txt (line 18)) (4.9)\n",
      "Requirement already satisfied: six>=1.9.0 in c:\\users\\uzair\\anaconda3\\envs\\lpd\\lib\\site-packages (from google-auth<3,>=1.6.3->tensorboard>=2.4.1->-r yolov5/requirements.txt (line 18)) (1.16.0)\n",
      "Requirement already satisfied: requests-oauthlib>=0.7.0 in c:\\users\\uzair\\anaconda3\\envs\\lpd\\lib\\site-packages (from google-auth-oauthlib<0.5,>=0.4.1->tensorboard>=2.4.1->-r yolov5/requirements.txt (line 18)) (1.3.1)\n",
      "Requirement already satisfied: parso<0.9.0,>=0.8.0 in c:\\users\\uzair\\anaconda3\\envs\\lpd\\lib\\site-packages (from jedi>=0.16->ipython->-r yolov5/requirements.txt (line 37)) (0.8.3)\n",
      "Requirement already satisfied: wcwidth in c:\\users\\uzair\\anaconda3\\envs\\lpd\\lib\\site-packages (from prompt-toolkit!=3.0.0,!=3.0.1,<3.1.0,>=2.0.0->ipython->-r yolov5/requirements.txt (line 37)) (0.2.5)\n",
      "Requirement already satisfied: MarkupSafe>=2.1.1 in c:\\users\\uzair\\anaconda3\\envs\\lpd\\lib\\site-packages (from werkzeug>=1.0.1->tensorboard>=2.4.1->-r yolov5/requirements.txt (line 18)) (2.1.1)\n",
      "Requirement already satisfied: pure-eval in c:\\users\\uzair\\anaconda3\\envs\\lpd\\lib\\site-packages (from stack-data->ipython->-r yolov5/requirements.txt (line 37)) (0.2.2)\n",
      "Requirement already satisfied: asttokens in c:\\users\\uzair\\anaconda3\\envs\\lpd\\lib\\site-packages (from stack-data->ipython->-r yolov5/requirements.txt (line 37)) (2.0.5)\n",
      "Requirement already satisfied: executing in c:\\users\\uzair\\anaconda3\\envs\\lpd\\lib\\site-packages (from stack-data->ipython->-r yolov5/requirements.txt (line 37)) (0.8.3)\n",
      "Requirement already satisfied: pyasn1<0.5.0,>=0.4.6 in c:\\users\\uzair\\anaconda3\\envs\\lpd\\lib\\site-packages (from pyasn1-modules>=0.2.1->google-auth<3,>=1.6.3->tensorboard>=2.4.1->-r yolov5/requirements.txt (line 18)) (0.4.8)\n",
      "Requirement already satisfied: oauthlib>=3.0.0 in c:\\users\\uzair\\anaconda3\\envs\\lpd\\lib\\site-packages (from requests-oauthlib>=0.7.0->google-auth-oauthlib<0.5,>=0.4.1->tensorboard>=2.4.1->-r yolov5/requirements.txt (line 18)) (3.2.0)\n"
     ]
    }
   ],
   "source": [
    "! pip install -r yolov5/requirements.txt"
   ]
  },
  {
   "cell_type": "code",
   "execution_count": 13,
   "metadata": {},
   "outputs": [],
   "source": [
    "data = {\n",
    "    'names':['License Plate'],\n",
    "    'nc':1,\n",
    "    'train':os.path.abspath(TRAIN_PATH),\n",
    "    'val':os.path.abspath(VAL_PATH)\n",
    "}\n",
    "\n",
    "with open('data.yaml', 'w') as f:\n",
    "    yaml.dump(data, f)"
   ]
  },
  {
   "cell_type": "code",
   "execution_count": 2,
   "metadata": {},
   "outputs": [],
   "source": [
    "!python ./yolov5/train.py --data ./LicensePlate.yaml  --batch-size 8  --epochs 80 --weights yolov5/yolov5s.pt"
   ]
  },
  {
   "cell_type": "code",
   "execution_count": null,
   "metadata": {},
   "outputs": [],
   "source": []
  }
 ],
 "metadata": {
  "kernelspec": {
   "display_name": "Python 3.10.4 ('lpd')",
   "language": "python",
   "name": "python3"
  },
  "language_info": {
   "codemirror_mode": {
    "name": "ipython",
    "version": 3
   },
   "file_extension": ".py",
   "mimetype": "text/x-python",
   "name": "python",
   "nbconvert_exporter": "python",
   "pygments_lexer": "ipython3",
   "version": "3.10.4"
  },
  "vscode": {
   "interpreter": {
    "hash": "eb9af74fac1276adc51c852d18bf7e58bc19bc2b0f73e51ad7d24dc3d2761368"
   }
  }
 },
 "nbformat": 4,
 "nbformat_minor": 2
}
